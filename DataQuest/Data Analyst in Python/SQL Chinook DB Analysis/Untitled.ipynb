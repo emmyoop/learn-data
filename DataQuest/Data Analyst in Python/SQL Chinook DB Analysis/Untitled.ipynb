{
 "cells": [
  {
   "cell_type": "code",
   "execution_count": 9,
   "metadata": {},
   "outputs": [],
   "source": [
    "%%capture\n",
    "%load_ext sql\n",
    "%sql sqlite:///chinook.db"
   ]
  },
  {
   "cell_type": "code",
   "execution_count": 7,
   "metadata": {},
   "outputs": [
    {
     "name": "stdout",
     "output_type": "stream",
     "text": [
      " * sqlite:///chinook.db\n",
      "Done.\n"
     ]
    },
    {
     "data": {
      "text/html": [
       "<table>\n",
       "    <tr>\n",
       "        <th>name</th>\n",
       "        <th>type</th>\n",
       "    </tr>\n",
       "</table>"
      ],
      "text/plain": [
       "[]"
      ]
     },
     "execution_count": 7,
     "metadata": {},
     "output_type": "execute_result"
    }
   ],
   "source": [
    "%%sql\n",
    "\n",
    "SELECT\n",
    "    name,\n",
    "    type\n",
    "FROM sqlite_master\n",
    "WHERE type IN (\"table\",\"view\");"
   ]
  },
  {
   "cell_type": "code",
   "execution_count": 8,
   "metadata": {},
   "outputs": [
    {
     "name": "stdout",
     "output_type": "stream",
     "text": [
      " * sqlite:///chinook.db\n",
      "(sqlite3.OperationalError) no such table: track\n",
      "[SQL: WITH\n",
      "    invoice_usa AS\n",
      "    (\n",
      "        SELECT il.track_id,\n",
      "               il.quantity\n",
      "          FROM invoice_line il\n",
      "         INNER JOIN invoice i ON i.invoice_id = il.invoice_id\n",
      "         WHERE i.billing_country = 'USA'\n",
      "    ),\n",
      "    tracks_sold AS\n",
      "    (\n",
      "        SELECT t.track_id,\n",
      "               SUM(i.quantity) tracks_sold\n",
      "        FROM track t \n",
      "        INNER JOIN invoice_usa i ON t.track_id = i.track_id\n",
      "        GROUP BY t.track_id\n",
      "    ),\n",
      "    track_genre AS\n",
      "    (\n",
      "        SELECT g.name genre,\n",
      "               t.track_id\n",
      "        FROM track t\n",
      "        INNER JOIN genre g ON t.genre_id=g.genre_id\n",
      "    )\n",
      "SELECT SUM(t.tracks_sold) tracks_sold,\n",
      "       g.genre\n",
      "  FROM tracks_sold t \n",
      "  INNER JOIN track_genre g ON g.track_id = t.track_id\n",
      "  GROUP BY g.genre;]\n",
      "(Background on this error at: http://sqlalche.me/e/13/e3q8)\n"
     ]
    }
   ],
   "source": [
    "%%sql\n",
    "\n",
    "WITH\n",
    "    invoice_usa AS\n",
    "    (\n",
    "        SELECT il.track_id,\n",
    "               il.quantity\n",
    "          FROM invoice_line il\n",
    "         INNER JOIN invoice i ON i.invoice_id = il.invoice_id\n",
    "         WHERE i.billing_country = 'USA'\n",
    "    ),\n",
    "    tracks_sold AS\n",
    "    (\n",
    "        SELECT t.track_id,\n",
    "               SUM(i.quantity) tracks_sold\n",
    "        FROM track t \n",
    "        INNER JOIN invoice_usa i ON t.track_id = i.track_id\n",
    "        GROUP BY t.track_id\n",
    "    ),\n",
    "    track_genre AS\n",
    "    (\n",
    "        SELECT g.name genre,\n",
    "               t.track_id\n",
    "        FROM track t\n",
    "        INNER JOIN genre g ON t.genre_id=g.genre_id\n",
    "    )\n",
    "SELECT SUM(t.tracks_sold) tracks_sold,\n",
    "       g.genre\n",
    "  FROM tracks_sold t \n",
    "  INNER JOIN track_genre g ON g.track_id = t.track_id\n",
    "  GROUP BY g.genre;\n",
    "    "
   ]
  },
  {
   "cell_type": "code",
   "execution_count": 4,
   "metadata": {},
   "outputs": [
    {
     "name": "stdout",
     "output_type": "stream",
     "text": [
      " * sqlite:///chinook.db\n",
      "(sqlite3.OperationalError) no such table: customer\n",
      "[SQL: WITH\n",
      "    customer_total AS\n",
      "    (\n",
      "        SELECT c.customer_id,\n",
      "               c.support_rep_id,\n",
      "               SUM(i.total) customer_total\n",
      "          FROM customer c \n",
      "         INNER JOIN invoice i ON c.customer_id = i.customer_id\n",
      "        GROUP BY c.customer_id\n",
      "    )\n",
      "SELECT e.employee_id,\n",
      "       e.hire_date,\n",
      "       e.title,\n",
      "       SUM(ct.customer_total) rep_total\n",
      "    FROM customer_total ct\n",
      "    INNER JOIN employee e ON ct.support_rep_id = e.employee_id\n",
      "    GROUP BY support_rep_id;]\n",
      "(Background on this error at: http://sqlalche.me/e/13/e3q8)\n"
     ]
    }
   ],
   "source": [
    "%%sql\n",
    "\n",
    "WITH\n",
    "    customer_total AS\n",
    "    (\n",
    "        SELECT c.customer_id,\n",
    "               c.support_rep_id,\n",
    "               SUM(i.total) customer_total\n",
    "          FROM customer c \n",
    "         INNER JOIN invoice i ON c.customer_id = i.customer_id\n",
    "        GROUP BY c.customer_id\n",
    "    )\n",
    "SELECT e.employee_id,\n",
    "       e.hire_date,\n",
    "       e.title,\n",
    "       SUM(ct.customer_total) rep_total\n",
    "    FROM customer_total ct\n",
    "    INNER JOIN employee e ON ct.support_rep_id = e.employee_id\n",
    "    GROUP BY support_rep_id;"
   ]
  },
  {
   "cell_type": "code",
   "execution_count": 5,
   "metadata": {},
   "outputs": [
    {
     "name": "stdout",
     "output_type": "stream",
     "text": [
      " * sqlite:///chinook.db\n",
      "(sqlite3.OperationalError) no such table: invoice\n",
      "[SQL: SELECT c.country,\n",
      "       COUNT(c.customer_id) nbr_customers,\n",
      "       SUM(i.total) total_sales,\n",
      "       COUNT(c.customer_id) / SUM(i.total) avg_sale_per_cust\n",
      "       \n",
      "    FROM invoice i\n",
      "    INNER JOIN customer c ON c.customer_id = i.customer_id\n",
      "    GROUP BY c.country\n",
      "    ORDER BY total_sales DESC;]\n",
      "(Background on this error at: http://sqlalche.me/e/13/e3q8)\n"
     ]
    }
   ],
   "source": [
    "%%sql\n",
    "\n",
    "SELECT c.country,\n",
    "       COUNT(c.customer_id) nbr_customers,\n",
    "       SUM(i.total) total_sales,\n",
    "       COUNT(c.customer_id) / SUM(i.total) avg_sale_per_cust\n",
    "       \n",
    "    FROM invoice i\n",
    "    INNER JOIN customer c ON c.customer_id = i.customer_id\n",
    "    GROUP BY c.country\n",
    "    ORDER BY total_sales DESC;"
   ]
  },
  {
   "cell_type": "code",
   "execution_count": null,
   "metadata": {},
   "outputs": [],
   "source": []
  }
 ],
 "metadata": {
  "kernelspec": {
   "display_name": "Python 3",
   "language": "python",
   "name": "python3"
  },
  "language_info": {
   "codemirror_mode": {
    "name": "ipython",
    "version": 3
   },
   "file_extension": ".py",
   "mimetype": "text/x-python",
   "name": "python",
   "nbconvert_exporter": "python",
   "pygments_lexer": "ipython3",
   "version": "3.7.7"
  }
 },
 "nbformat": 4,
 "nbformat_minor": 4
}
